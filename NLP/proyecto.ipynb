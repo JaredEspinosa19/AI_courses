{
 "cells": [
  {
   "cell_type": "code",
   "execution_count": 1,
   "metadata": {},
   "outputs": [],
   "source": [
    "import spacy\n",
    "import pandas as pd\n",
    "import re"
   ]
  },
  {
   "cell_type": "markdown",
   "metadata": {},
   "source": [
    "## Inglés"
   ]
  },
  {
   "cell_type": "code",
   "execution_count": 2,
   "metadata": {},
   "outputs": [],
   "source": [
    "df = pd.read_csv('./Train-ES.csv')"
   ]
  },
  {
   "cell_type": "code",
   "execution_count": 3,
   "metadata": {},
   "outputs": [
    {
     "data": {
      "text/html": [
       "<div>\n",
       "<style scoped>\n",
       "    .dataframe tbody tr th:only-of-type {\n",
       "        vertical-align: middle;\n",
       "    }\n",
       "\n",
       "    .dataframe tbody tr th {\n",
       "        vertical-align: top;\n",
       "    }\n",
       "\n",
       "    .dataframe thead th {\n",
       "        text-align: right;\n",
       "    }\n",
       "</style>\n",
       "<table border=\"1\" class=\"dataframe\">\n",
       "  <thead>\n",
       "    <tr style=\"text-align: right;\">\n",
       "      <th></th>\n",
       "      <th>Unnamed: 0</th>\n",
       "      <th>id</th>\n",
       "      <th>tweet</th>\n",
       "      <th>label</th>\n",
       "    </tr>\n",
       "  </thead>\n",
       "  <tbody>\n",
       "    <tr>\n",
       "      <th>0</th>\n",
       "      <td>0</td>\n",
       "      <td>af1c4ffa161c690486b68b817e1061a1</td>\n",
       "      <td>10 errores que las mujeres cometen en la prime...</td>\n",
       "      <td>1</td>\n",
       "    </tr>\n",
       "    <tr>\n",
       "      <th>1</th>\n",
       "      <td>1</td>\n",
       "      <td>af1c4ffa161c690486b68b817e1061a1</td>\n",
       "      <td>Increíble mascarilla borra las manchas como si...</td>\n",
       "      <td>1</td>\n",
       "    </tr>\n",
       "    <tr>\n",
       "      <th>2</th>\n",
       "      <td>2</td>\n",
       "      <td>af1c4ffa161c690486b68b817e1061a1</td>\n",
       "      <td>5 EJERCICIOS CON SILLA, fáciles, prácticos y r...</td>\n",
       "      <td>1</td>\n",
       "    </tr>\n",
       "    <tr>\n",
       "      <th>3</th>\n",
       "      <td>3</td>\n",
       "      <td>af1c4ffa161c690486b68b817e1061a1</td>\n",
       "      <td>Huevo Hervido…. Así Se Prepara ESTE Excelente ...</td>\n",
       "      <td>1</td>\n",
       "    </tr>\n",
       "    <tr>\n",
       "      <th>4</th>\n",
       "      <td>4</td>\n",
       "      <td>af1c4ffa161c690486b68b817e1061a1</td>\n",
       "      <td>¿El tipo más Rallado en este mundo que tal te ...</td>\n",
       "      <td>1</td>\n",
       "    </tr>\n",
       "  </tbody>\n",
       "</table>\n",
       "</div>"
      ],
      "text/plain": [
       "   Unnamed: 0                                id  \\\n",
       "0           0  af1c4ffa161c690486b68b817e1061a1   \n",
       "1           1  af1c4ffa161c690486b68b817e1061a1   \n",
       "2           2  af1c4ffa161c690486b68b817e1061a1   \n",
       "3           3  af1c4ffa161c690486b68b817e1061a1   \n",
       "4           4  af1c4ffa161c690486b68b817e1061a1   \n",
       "\n",
       "                                               tweet  label  \n",
       "0  10 errores que las mujeres cometen en la prime...      1  \n",
       "1  Increíble mascarilla borra las manchas como si...      1  \n",
       "2  5 EJERCICIOS CON SILLA, fáciles, prácticos y r...      1  \n",
       "3  Huevo Hervido…. Así Se Prepara ESTE Excelente ...      1  \n",
       "4  ¿El tipo más Rallado en este mundo que tal te ...      1  "
      ]
     },
     "execution_count": 3,
     "metadata": {},
     "output_type": "execute_result"
    }
   ],
   "source": [
    "df.head()"
   ]
  },
  {
   "cell_type": "code",
   "execution_count": 4,
   "metadata": {},
   "outputs": [],
   "source": [
    "tweets = df['tweet']\n",
    "labels = df['label']"
   ]
  },
  {
   "cell_type": "markdown",
   "metadata": {},
   "source": [
    "### Preprocesamiento"
   ]
  },
  {
   "cell_type": "code",
   "execution_count": 5,
   "metadata": {},
   "outputs": [],
   "source": [
    "twitter_dict = {\n",
    "  'user': r'\\B@\\w+',\n",
    "  'hashtag': r'\\B#\\w+',\n",
    "  'links': r'\\b(?:https?|ftp):\\/\\/\\S+',\n",
    "  # 'especialWords': r'\\b[A-Z]{2,3}\\b|&amp;|(?<=\\s)(via|Via)(?=\\s)',\n",
    "  'notCharacter': r'[“”\",.¿?¡!#$%/():&;^-]|\\b\\'(?!\\w)|(?<!\\w)\\'\\b|…',\n",
    "  'spaces': r'\\s{1,}',\n",
    "  'start': r'^\\s+',\n",
    "  'consonants': r'\\b[b-df-hj-np-tv-zB-DF-HJ-NP-TV-Z]\\b'\n",
    "}"
   ]
  },
  {
   "cell_type": "code",
   "execution_count": 6,
   "metadata": {},
   "outputs": [],
   "source": [
    "clean_tweets = []\n",
    "for review in tweets:\n",
    "  aux = re.sub(twitter_dict['user'] , '', review)\n",
    "  aux = re.sub(twitter_dict['hashtag'] , '', aux)\n",
    "  aux = re.sub(twitter_dict['links'], '', aux)\n",
    "  # aux = re.sub(twitter_dict['especialWords'], ' ', aux)\n",
    "  aux = re.sub(twitter_dict['notCharacter'], ' ', aux)\n",
    "  aux = re.sub(twitter_dict['consonants'], ' ', aux)\n",
    "  aux = re.sub(twitter_dict['spaces'], ' ', aux)\n",
    "  aux = re.sub(twitter_dict['start'], '', aux)\n",
    "  clean_tweets.append(aux)"
   ]
  },
  {
   "cell_type": "code",
   "execution_count": 7,
   "metadata": {},
   "outputs": [
    {
     "data": {
      "text/plain": [
       "['10 errores que las mujeres cometen en la primera cita ',\n",
       " 'Increíble mascarilla borra las manchas como si fuera magia las cicatrices acné las arrugas desde el primer ',\n",
       " '5 EJERCICIOS CON SILLA fáciles prácticos rápidos de hacer que reducen la GRASA DE LA PANZA rápidamente desde ',\n",
       " 'Huevo Hervido Así Se Prepara ESTE Excelente Remedio Para El Azúcar Alta En La Sangre NO OLVIDES ',\n",
       " 'El tipo más Rallado en este mundo que tal te parece via ',\n",
       " 'El proyecto del estudiante se volvió viral Dwayne Johnson le envió un mensaje por Twitter ',\n",
       " '7 trucos para que un hombre se enamore perdidamente de ti Nunca fallan ',\n",
       " 'LUNARES ROJOS EN LA PIEL LO QUE ADVIERTEN SOBRE TU SALUD Son más comunes en personas que tienen más de 30 años ',\n",
       " 'Ya sabían que era por esto o NO OLVIDES ',\n",
       " 'Cómo quitar los pesticidas a tus alimentos de forma fácil barata sana NO OLVIDES ']"
      ]
     },
     "execution_count": 7,
     "metadata": {},
     "output_type": "execute_result"
    }
   ],
   "source": [
    "clean_tweets[:10]"
   ]
  },
  {
   "cell_type": "code",
   "execution_count": 9,
   "metadata": {},
   "outputs": [],
   "source": [
    "nlp = spacy.load(\"es_core_news_sm\")"
   ]
  },
  {
   "cell_type": "code",
   "execution_count": 10,
   "metadata": {},
   "outputs": [],
   "source": [
    "final_tweets = []\n",
    "for tweet in clean_tweets:\n",
    "  doc = nlp(tweet)\n",
    "  aux = ''\n",
    "  for token in doc:\n",
    "    aux = aux + token.lemma_ + ' '\n",
    "    # print(token.lemma_)\n",
    "  final_tweets.append(aux)"
   ]
  },
  {
   "cell_type": "code",
   "execution_count": 11,
   "metadata": {},
   "outputs": [],
   "source": [
    "final_df = pd.DataFrame({\n",
    "  'tweets': final_tweets,\n",
    "  'label': labels\n",
    "})\n",
    "final_df.to_csv('dataset_ES.csv', encoding='utf-8', index=False)"
   ]
  },
  {
   "cell_type": "code",
   "execution_count": null,
   "metadata": {},
   "outputs": [],
   "source": [
    "df1 = pd.read_csv('./dataset_EN.csv') "
   ]
  },
  {
   "cell_type": "code",
   "execution_count": null,
   "metadata": {},
   "outputs": [],
   "source": [
    "from sklearn.model_selection import train_test_split\n",
    "from sklearn.metrics import roc_auc_score\n",
    "from sklearn.manifold import TSNE\n",
    "\n",
    "from keras.preprocessing.text import Tokenizer\n",
    "from keras.preprocessing.sequence import pad_sequences\n",
    "from keras.layers import LSTM, Conv1D, MaxPooling1D, Dropout\n",
    "from keras.utils.np_utils import to_categorical\n",
    "\n"
   ]
  },
  {
   "cell_type": "code",
   "execution_count": null,
   "metadata": {},
   "outputs": [],
   "source": [
    "df2 = pd.read_csv('./Test-EN-nolabels.csv')"
   ]
  },
  {
   "cell_type": "code",
   "execution_count": null,
   "metadata": {},
   "outputs": [],
   "source": [
    "df2.shape"
   ]
  },
  {
   "cell_type": "code",
   "execution_count": null,
   "metadata": {},
   "outputs": [],
   "source": [
    "pruebas = df2['tweet'].astype(str)"
   ]
  },
  {
   "cell_type": "code",
   "execution_count": null,
   "metadata": {},
   "outputs": [],
   "source": [
    "pruebas.shape"
   ]
  },
  {
   "cell_type": "code",
   "execution_count": null,
   "metadata": {},
   "outputs": [],
   "source": []
  }
 ],
 "metadata": {
  "kernelspec": {
   "display_name": "cic_nlp",
   "language": "python",
   "name": "python3"
  },
  "language_info": {
   "codemirror_mode": {
    "name": "ipython",
    "version": 3
   },
   "file_extension": ".py",
   "mimetype": "text/x-python",
   "name": "python",
   "nbconvert_exporter": "python",
   "pygments_lexer": "ipython3",
   "version": "3.10.8"
  }
 },
 "nbformat": 4,
 "nbformat_minor": 2
}
