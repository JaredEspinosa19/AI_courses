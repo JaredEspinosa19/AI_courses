{
 "cells": [
  {
   "cell_type": "code",
   "execution_count": 1,
   "metadata": {},
   "outputs": [],
   "source": [
    "import pandas as pd\n",
    "import spacy\n",
    "import re\n",
    "import stanza\n",
    "import deplacy"
   ]
  },
  {
   "cell_type": "markdown",
   "metadata": {},
   "source": [
    "## Parte 1"
   ]
  },
  {
   "cell_type": "code",
   "execution_count": 2,
   "metadata": {},
   "outputs": [],
   "source": [
    "file_route = './Sample Texts - Hoja 1.csv'"
   ]
  },
  {
   "cell_type": "code",
   "execution_count": 3,
   "metadata": {},
   "outputs": [
    {
     "data": {
      "text/plain": [
       "Index(['Text', 'Type', 'Source'], dtype='object')"
      ]
     },
     "execution_count": 3,
     "metadata": {},
     "output_type": "execute_result"
    }
   ],
   "source": [
    "dataframe = pd.read_csv(file_route)\n",
    "dataframe.columns"
   ]
  },
  {
   "cell_type": "code",
   "execution_count": 4,
   "metadata": {},
   "outputs": [],
   "source": [
    "tweets_corpus = dataframe['Text'][dataframe['Type'] == 'Tweet'].tolist()\n",
    "review_corpus = dataframe['Text'][dataframe['Type'] != 'Tweet'].tolist()"
   ]
  },
  {
   "cell_type": "code",
   "execution_count": 5,
   "metadata": {},
   "outputs": [],
   "source": [
    "review_dict = {\n",
    "    'notCharacter': r'[“” ,.¿?¡!#$%/():&;^-]|\\b\\'(?!\\w)|(?<!\\w)\\'\\b',\n",
    "}\n",
    "\n",
    "twitter_dict = {\n",
    "  'user': r'\\B@\\w+',\n",
    "  'hashtag': r'\\B#\\w+',\n",
    "  'links': r'\\b(?:https?|ftp):\\/\\/\\S+',\n",
    "  'especialWords': r'\\b[A-Z]{2,3}\\b|&amp;',\n",
    "  'notCharacter': r'[“”\",.¿?¡!#$%/():&;^-]|\\b\\'(?!\\w)|(?<!\\w)\\'\\b',\n",
    "}"
   ]
  },
  {
   "cell_type": "markdown",
   "metadata": {},
   "source": [
    "## Preprocesamiento\n",
    "- Eliminación expresiones\n",
    "- Tokenización\n",
    "- Lematización"
   ]
  },
  {
   "cell_type": "markdown",
   "metadata": {},
   "source": [
    "### Eliminación expresiones"
   ]
  },
  {
   "cell_type": "code",
   "execution_count": 6,
   "metadata": {},
   "outputs": [],
   "source": [
    "clean_tweets = []\n",
    "for review in tweets_corpus:\n",
    "  aux = re.sub(twitter_dict['user'] , '', review)\n",
    "  aux = re.sub(twitter_dict['hashtag'] , '', aux)\n",
    "  aux = re.sub(twitter_dict['links'], '', aux)\n",
    "  aux = re.sub(twitter_dict['especialWords'], ' ', aux)\n",
    "  aux = re.sub(twitter_dict['notCharacter'], ' ', aux)\n",
    "  clean_tweets.append(aux)"
   ]
  },
  {
   "cell_type": "code",
   "execution_count": 7,
   "metadata": {},
   "outputs": [],
   "source": [
    "clean_reviews = []\n",
    "for review in review_corpus:\n",
    "  aux = re.sub(review_dict['notCharacter'] , ' ', review)\n",
    "  clean_reviews.append(aux)"
   ]
  },
  {
   "cell_type": "markdown",
   "metadata": {},
   "source": [
    "## Tokenización y Lematización"
   ]
  },
  {
   "cell_type": "code",
   "execution_count": 8,
   "metadata": {},
   "outputs": [
    {
     "name": "stderr",
     "output_type": "stream",
     "text": [
      "2023-11-27 19:50:56 INFO: Checking for updates to resources.json in case models have been updated.  Note: this behavior can be turned off with download_method=None or download_method=DownloadMethod.REUSE_RESOURCES\n"
     ]
    },
    {
     "data": {
      "application/vnd.jupyter.widget-view+json": {
       "model_id": "4afdf24711e74ae09fa863ca3c53c7ce",
       "version_major": 2,
       "version_minor": 0
      },
      "text/plain": [
       "Downloading https://raw.githubusercontent.com/stanfordnlp/stanza-resources/main/resources_1.6.0.json:   0%|   …"
      ]
     },
     "metadata": {},
     "output_type": "display_data"
    },
    {
     "name": "stderr",
     "output_type": "stream",
     "text": [
      "2023-11-27 19:50:56 WARNING: Can not find mwt: default from official model list. Ignoring it.\n",
      "2023-11-27 19:50:57 INFO: Loading these models for language: en (English):\n",
      "=================================\n",
      "| Processor | Package           |\n",
      "---------------------------------\n",
      "| tokenize  | combined          |\n",
      "| pos       | combined_charlm   |\n",
      "| lemma     | combined_nocharlm |\n",
      "=================================\n",
      "\n",
      "2023-11-27 19:50:57 INFO: Using device: cpu\n",
      "2023-11-27 19:50:57 INFO: Loading: tokenize\n",
      "2023-11-27 19:50:57 INFO: Loading: pos\n",
      "2023-11-27 19:50:57 INFO: Loading: lemma\n",
      "2023-11-27 19:50:57 INFO: Done loading processors!\n"
     ]
    }
   ],
   "source": [
    "nlp = stanza.Pipeline(lang='en', processors='tokenize,mwt,pos,lemma')"
   ]
  },
  {
   "cell_type": "code",
   "execution_count": 9,
   "metadata": {},
   "outputs": [],
   "source": [
    "final_tweets = []\n",
    "for tweet in clean_tweets:\n",
    "  doc = nlp(tweet)\n",
    "  aux = ''\n",
    "  for sentence in doc.sentences:\n",
    "    for word in sentence.words:\n",
    "      aux += word.lemma + ' '\n",
    "  final_tweets.append(aux)"
   ]
  },
  {
   "cell_type": "code",
   "execution_count": 10,
   "metadata": {},
   "outputs": [],
   "source": [
    "final_reviews = []\n",
    "for review in clean_reviews:\n",
    "  doc = nlp(review)\n",
    "  aux = ''\n",
    "  for sentence in doc.sentences:\n",
    "    for word in sentence.words:\n",
    "      aux += word.lemma + ' '\n",
    "  final_reviews.append(aux)"
   ]
  },
  {
   "cell_type": "markdown",
   "metadata": {},
   "source": [
    "# Parte 2"
   ]
  },
  {
   "cell_type": "code",
   "execution_count": 11,
   "metadata": {},
   "outputs": [],
   "source": [
    "nlp = spacy.load(\"en_core_web_trf\")"
   ]
  },
  {
   "cell_type": "code",
   "execution_count": 12,
   "metadata": {},
   "outputs": [],
   "source": [
    "def renderSyntacticTree(sentence: str)-> None:\n",
    "  doc = nlp(sentence)\n",
    "  deplacy.render(doc)"
   ]
  },
  {
   "cell_type": "code",
   "execution_count": 13,
   "metadata": {},
   "outputs": [
    {
     "name": "stdout",
     "output_type": "stream",
     "text": [
      "as a woman you should not complain about clean up your house as a man you should always take the trash out \n"
     ]
    }
   ],
   "source": [
    "sentence1 = final_tweets[0]\n",
    "print(sentence1)"
   ]
  },
  {
   "cell_type": "code",
   "execution_count": 14,
   "metadata": {},
   "outputs": [
    {
     "name": "stdout",
     "output_type": "stream",
     "text": [
      "as       ADP  ═══╗<══════════╗   prep\n",
      "a        DET  <╗ ║           ║   det\n",
      "woman    NOUN ═╝<╝           ║   pobj\n",
      "you      PRON <════════════╗ ║   nsubj\n",
      "should   AUX  <══════════╗ ║ ║   aux\n",
      "not      PART <════════╗ ║ ║ ║   neg\n",
      "complain VERB ═══════╗═╝═╝═╝═╝<╗ ccomp\n",
      "about    ADP  ═════╗<╝         ║ prep\n",
      "clean    VERB ═╗═╗<╝           ║ pcomp\n",
      "up       ADP  <╝ ║             ║ prt\n",
      "your     PRON <╗ ║             ║ poss\n",
      "house    NOUN ═╝<╝             ║ dobj\n",
      "as       ADP  ═══╗<════════╗   ║ prep\n",
      "a        DET  <╗ ║         ║   ║ det\n",
      "man      NOUN ═╝<╝         ║   ║ pobj\n",
      "you      PRON <══════════╗ ║   ║ nsubj\n",
      "should   AUX  <════════╗ ║ ║   ║ aux\n",
      "always   ADV  <══════╗ ║ ║ ║   ║ advmod\n",
      "take     VERB ═══╗═╗═╝═╝═╝═╝═══╝ ROOT\n",
      "the      DET  <╗ ║ ║             det\n",
      "trash    NOUN ═╝ ║<╝             dobj\n",
      "out      ADP  <══╝               prt\n"
     ]
    }
   ],
   "source": [
    "renderSyntacticTree(sentence1)"
   ]
  },
  {
   "cell_type": "code",
   "execution_count": 15,
   "metadata": {},
   "outputs": [
    {
     "name": "stdout",
     "output_type": "stream",
     "text": [
      "cause the reply to be disregard and the tap notification under the keyboard be opened😡😡 😡 \n"
     ]
    }
   ],
   "source": [
    "sentence2 = final_tweets[6]\n",
    "print(sentence2)"
   ]
  },
  {
   "cell_type": "code",
   "execution_count": 16,
   "metadata": {},
   "outputs": [
    {
     "name": "stdout",
     "output_type": "stream",
     "text": [
      "cause        SCONJ <════════╗         mark\n",
      "the          DET   <╗       ║         det\n",
      "reply        NOUN  ═╝<════╗ ║         nsubj\n",
      "to           PART  <════╗ ║ ║         aux\n",
      "be           AUX   ═╗═╗═╝═╝═╝═╗═╗═╗═╗ ROOT\n",
      "disregard    VERB  <╝ ║       ║ ║ ║ ║ attr\n",
      "and          CCONJ <══╝       ║ ║ ║ ║ cc\n",
      "the          DET   <══════╗   ║ ║ ║ ║ det\n",
      "tap          NOUN  <╗     ║   ║ ║ ║ ║ compound\n",
      "notification NOUN  ═╝═══╗═╝<╗ ║ ║ ║ ║ nsubjpass\n",
      "under        ADP   ═══╗<╝   ║ ║ ║ ║ ║ prep\n",
      "the          DET   <╗ ║     ║ ║ ║ ║ ║ det\n",
      "keyboard     NOUN  ═╝<╝     ║ ║ ║ ║ ║ pobj\n",
      "be           AUX   <╗       ║ ║ ║ ║ ║ auxpass\n",
      "opened       VERB  ═╝═══════╝<╝ ║ ║ ║ conj\n",
      "😡           PUNCT <════════════╝ ║ ║ punct\n",
      "😡           PUNCT <══════════════╝ ║ punct\n",
      "😡           PUNCT <════════════════╝ punct\n"
     ]
    }
   ],
   "source": [
    "renderSyntacticTree(sentence2)"
   ]
  },
  {
   "cell_type": "code",
   "execution_count": 17,
   "metadata": {},
   "outputs": [
    {
     "name": "stdout",
     "output_type": "stream",
     "text": [
      "yep I have try laptop too several time over the past week and again today I have try different browser too \n"
     ]
    }
   ],
   "source": [
    "sentence3 = final_tweets[12]\n",
    "print(sentence3)"
   ]
  },
  {
   "cell_type": "code",
   "execution_count": 18,
   "metadata": {},
   "outputs": [
    {
     "name": "stdout",
     "output_type": "stream",
     "text": [
      "yep       INTJ  <══════════════╗   intj\n",
      "I         PRON  <════════════╗ ║   nsubj\n",
      "have      VERB  ═╗═╗═╗═╗═╗═╗═╝═╝═╗ ROOT\n",
      "try       VERB  <╝ ║ ║ ║ ║ ║     ║ dep\n",
      "laptop    NOUN  <══╝ ║ ║ ║ ║     ║ dobj\n",
      "too       ADV   <════╝ ║ ║ ║     ║ advmod\n",
      "several   ADJ   <╗     ║ ║ ║     ║ amod\n",
      "time      NOUN  ═╝<════╝ ║ ║     ║ npadvmod\n",
      "over      ADP   ═════╗<══╝ ║     ║ prep\n",
      "the       DET   <══╗ ║     ║     ║ det\n",
      "past      ADJ   <╗ ║ ║     ║     ║ amod\n",
      "week      NOUN  ═╝═╝<╝     ║     ║ pobj\n",
      "and       CCONJ <══════════╝     ║ cc\n",
      "again     ADV   <════════════╗   ║ advmod\n",
      "today     NOUN  <══════════╗ ║   ║ npadvmod\n",
      "I         PRON  <════════╗ ║ ║   ║ nsubj\n",
      "have      VERB  ═════╗═╗═╝═╝═╝<══╝ conj\n",
      "try       VERB  <══╗ ║ ║           det\n",
      "different ADJ   <╗ ║ ║ ║           amod\n",
      "browser   NOUN  ═╝═╝<╝ ║           dobj\n",
      "too       ADV   <══════╝           advmod\n"
     ]
    }
   ],
   "source": [
    "renderSyntacticTree(sentence3)"
   ]
  },
  {
   "cell_type": "code",
   "execution_count": 19,
   "metadata": {},
   "outputs": [
    {
     "name": "stdout",
     "output_type": "stream",
     "text": [
      "great cd my lovely Pat have one of the great voice of her generation I have listen to this cd for year and I still love it when I be in a good mood it make I feel good a bad mood just evaporate like sugar in the rain this cd just ooze life vocal be jusat stuunning and lyric just kill one of life 's hidden gem this be a desert isle cd in my book why she never make it big be just beyond I everytime I play this no matter black white young old male female everybody say one thing \" who be that sing \" \n"
     ]
    }
   ],
   "source": [
    "sentence4 = final_reviews[0]\n",
    "print(sentence4)"
   ]
  },
  {
   "cell_type": "code",
   "execution_count": 20,
   "metadata": {},
   "outputs": [
    {
     "data": {
      "text/plain": [
       "'Great CD  My lovely Pat has one of the GREAT voices of her generation  I have listened to this CD for YEARS and I still LOVE IT  When I\\'m in a good mood it makes me feel better  A bad mood just evaporates like sugar in the rain  This CD just oozes LIFE  Vocals are jusat STUUNNING and lyrics just kill  One of life\\'s hidden gems  This is a desert isle CD in my book  Why she never made it big is just beyond me  Everytime I play this  no matter black  white  young  old  male  female EVERYBODY says one thing \"Who was that singing  \"'"
      ]
     },
     "execution_count": 20,
     "metadata": {},
     "output_type": "execute_result"
    }
   ],
   "source": [
    "clean_reviews[0]"
   ]
  },
  {
   "cell_type": "code",
   "execution_count": 21,
   "metadata": {},
   "outputs": [
    {
     "name": "stdout",
     "output_type": "stream",
     "text": [
      "great      ADJ   <══════════════════╗                                 amod\n",
      "cd         NOUN  ═════╗═══════════╗═╝<════════════════════════╗       dep\n",
      "my         PRON  <══╗ ║           ║                           ║       poss\n",
      "lovely     ADJ   <╗ ║ ║           ║                           ║       amod\n",
      "Pat        PROPN ═╝═╝<╝           ║                           ║       npadvmod\n",
      "have       AUX   ═══════════════╗<╝                           ║       meta\n",
      "one        NUM   ═════════════╗<╝                             ║       dobj\n",
      "of         ADP   ═══════════╗<╝                               ║       prep\n",
      "the        DET   <════════╗ ║                                 ║       det\n",
      "great      ADJ   <══════╗ ║ ║                                 ║       amod\n",
      "voice      NOUN  ═════╗═╝═╝<╝                                 ║       pobj\n",
      "of         ADP   ═══╗<╝                                       ║       prep\n",
      "her        PRON  <╗ ║                                         ║       poss\n",
      "generation NOUN  ═╝<╝                                         ║       pobj\n",
      "I          PRON  <════════════════════════════════════════╗   ║       nsubj\n",
      "have       AUX   <══════════════════════════════════════╗ ║   ║       aux\n",
      "listen     VERB  ═════╗═╗═╗═════════════════════╗═╗═╗═╗═╝═╝═╗═╝═╗═╗═╗ ROOT\n",
      "to         ADP   ═══╗<╝ ║ ║                     ║ ║ ║ ║     ║   ║ ║ ║ prep\n",
      "this       DET   <╗ ║   ║ ║                     ║ ║ ║ ║     ║   ║ ║ ║ det\n",
      "cd         NOUN  ═╝<╝   ║ ║                     ║ ║ ║ ║     ║   ║ ║ ║ pobj\n",
      "for        ADP   ═╗<════╝ ║                     ║ ║ ║ ║     ║   ║ ║ ║ prep\n",
      "year       NOUN  <╝       ║                     ║ ║ ║ ║     ║   ║ ║ ║ pobj\n",
      "and        CCONJ <════════╝                     ║ ║ ║ ║     ║   ║ ║ ║ cc\n",
      "I          PRON  <════════════════════════════╗ ║ ║ ║ ║     ║   ║ ║ ║ nsubj\n",
      "still      ADV   <══════════════════════════╗ ║ ║ ║ ║ ║     ║   ║ ║ ║ advmod\n",
      "love       VERB  ═╗═══════════════════════╗═╝═╝ ║ ║ ║ ║<════╝   ║ ║ ║ conj\n",
      "it         PRON  <╝                       ║     ║ ║ ║ ║         ║ ║ ║ dobj\n",
      "when       SCONJ <══════════╗             ║     ║ ║ ║ ║         ║ ║ ║ advmod\n",
      "I          PRON  <════════╗ ║             ║     ║ ║ ║ ║         ║ ║ ║ nsubj\n",
      "be         VERB  ═══════╗═╝═╝<══════════╗ ║     ║ ║ ║ ║         ║ ║ ║ advcl\n",
      "in         ADP   ═════╗<╝               ║ ║     ║ ║ ║ ║         ║ ║ ║ prep\n",
      "a          DET   <══╗ ║                 ║ ║     ║ ║ ║ ║         ║ ║ ║ det\n",
      "good       ADJ   <╗ ║ ║                 ║ ║     ║ ║ ║ ║         ║ ║ ║ amod\n",
      "mood       NOUN  ═╝═╝<╝                 ║ ║     ║ ║ ║ ║         ║ ║ ║ pobj\n",
      "it         PRON  <════════════════════╗ ║ ║     ║ ║ ║ ║         ║ ║ ║ nsubj\n",
      "make       VERB  ═══════════════════╗═╝═╝<╝     ║ ║ ║ ║         ║ ║ ║ dep\n",
      "I          PRON  <════════════════╗ ║           ║ ║ ║ ║         ║ ║ ║ nsubj\n",
      "feel       VERB  ═╗═════════════╗═╝<╝           ║ ║ ║ ║         ║ ║ ║ ccomp\n",
      "good       ADJ   <╝             ║               ║ ║ ║ ║         ║ ║ ║ acomp\n",
      "a          DET   <══╗           ║               ║ ║ ║ ║         ║ ║ ║ det\n",
      "bad        ADJ   <╗ ║           ║               ║ ║ ║ ║         ║ ║ ║ amod\n",
      "mood       NOUN  ═╝═╝<════════╗ ║               ║ ║ ║ ║         ║ ║ ║ nsubj\n",
      "just       ADV   <══════════╗ ║ ║               ║ ║ ║ ║         ║ ║ ║ advmod\n",
      "evaporate  VERB  ═════════╗═╝═╝<╝               ║ ║ ║ ║         ║ ║ ║ dep\n",
      "like       ADP   ═══════╗<╝                     ║ ║ ║ ║         ║ ║ ║ prep\n",
      "sugar      NOUN  ═════╗<╝                       ║ ║ ║ ║         ║ ║ ║ pobj\n",
      "in         ADP   ═══╗<╝                         ║ ║ ║ ║         ║ ║ ║ prep\n",
      "the        DET   <╗ ║                           ║ ║ ║ ║         ║ ║ ║ det\n",
      "rain       NOUN  ═╝<╝                           ║ ║ ║ ║         ║ ║ ║ pobj\n",
      "this       DET   <╗                             ║ ║ ║ ║         ║ ║ ║ det\n",
      "cd         NOUN  ═╝<╗                           ║ ║ ║ ║         ║ ║ ║ nsubj\n",
      "just       ADV   <╗ ║                           ║ ║ ║ ║         ║ ║ ║ advmod\n",
      "ooze       VERB  ═╝═╝<══╗                       ║ ║ ║ ║         ║ ║ ║ dep\n",
      "life       NOUN  ═════╗═╝<══════════════════════╝ ║ ║ ║         ║ ║ ║ dep\n",
      "vocal      X     <╗   ║                           ║ ║ ║         ║ ║ ║ dep\n",
      "be         AUX   ═╝<╗ ║                           ║ ║ ║         ║ ║ ║ dep\n",
      "jusat      X     <╗ ║ ║                           ║ ║ ║         ║ ║ ║ dep\n",
      "stuunning  X     ═╝═╝<╝                           ║ ║ ║         ║ ║ ║ dep\n",
      "and        CCONJ <════════════════════════════════╝ ║ ║         ║ ║ ║ cc\n",
      "lyric      NOUN  ═════════════════════════════╗     ║ ║<════════╝ ║ ║ conj\n",
      "just       ADV   <══════════════════════════╗ ║     ║ ║           ║ ║ advmod\n",
      "kill       VERB  ═════════════════════════╗═╝<╝     ║ ║           ║ ║ dep\n",
      "one        NUM   ═══════════════════════╗<╝         ║ ║           ║ ║ dobj\n",
      "of         ADP   ═════════════════════╗<╝           ║ ║           ║ ║ prep\n",
      "life       NOUN  ═╗<╗                 ║             ║ ║           ║ ║ poss\n",
      "'s         PART  <╝ ║                 ║             ║ ║           ║ ║ case\n",
      "hidden     VERB  <╗ ║                 ║             ║ ║           ║ ║ amod\n",
      "gem        NOUN  ═╝═╝═══════════════╗<╝             ║ ║           ║ ║ pobj\n",
      "this       PRON  <════════════════╗ ║               ║ ║           ║ ║ nsubj\n",
      "be         AUX   ═══════════════╗═╝<╝               ║ ║           ║ ║ parataxis\n",
      "a          DET   <════════════╗ ║                   ║ ║           ║ ║ det\n",
      "desert     PROPN <╗           ║ ║                   ║ ║           ║ ║ compound\n",
      "isle       PROPN ═╝<╗         ║ ║                   ║ ║           ║ ║ compound\n",
      "cd         NOUN  ═══╝═╗═════╗═╝<╝                   ║ ║           ║ ║ attr\n",
      "in         ADP   ═══╗<╝     ║                       ║ ║           ║ ║ prep\n",
      "my         PRON  <╗ ║       ║                       ║ ║           ║ ║ poss\n",
      "book       NOUN  ═╝<╝       ║                       ║ ║           ║ ║ pobj\n",
      "why        SCONJ <════════╗ ║                       ║ ║           ║ ║ advmod\n",
      "she        PRON  <══════╗ ║ ║                       ║ ║           ║ ║ nsubj\n",
      "never      ADV   <════╗ ║ ║ ║                       ║ ║           ║ ║ neg\n",
      "make       VERB  ═══╗═╝═╝═╝<╝                       ║ ║           ║ ║ relcl\n",
      "it         PRON  <╗ ║                               ║ ║           ║ ║ nsubj\n",
      "big        ADJ   ═╝<╝                               ║ ║           ║ ║ ccomp\n",
      "be         AUX   ═════╗<════════════════════════════╝ ║           ║ ║ dep\n",
      "just       ADV   <══╗ ║                               ║           ║ ║ advmod\n",
      "beyond     ADP   ═╗═╝<╝                               ║           ║ ║ dep\n",
      "I          PRON  <╝                                   ║           ║ ║ pobj\n",
      "everytime  ADV   ═════╗<╗                             ║           ║ ║ advmod\n",
      "I          PRON  <══╗ ║ ║                             ║           ║ ║ nsubj\n",
      "play       VERB  ═╗═╝<╝ ║                             ║           ║ ║ ccomp\n",
      "this       PRON  <╝     ║                             ║           ║ ║ dobj\n",
      "no         ADV   <╗     ║                             ║           ║ ║ neg\n",
      "matter     ADV   ═╝═════╝<══╗                         ║           ║ ║ advmod\n",
      "black      ADJ   <╗         ║                         ║           ║ ║ amod\n",
      "white      ADJ   ═╝<══════╗ ║                         ║           ║ ║ amod\n",
      "young      ADJ   <══╗     ║ ║                         ║           ║ ║ amod\n",
      "old        ADJ   <╗ ║     ║ ║                         ║           ║ ║ amod\n",
      "male       NOUN  ═╝═╝<╗   ║ ║                         ║           ║ ║ compound\n",
      "female     NOUN  ═════╝═╗═╝═╝<════════════════════════║═══════════╝ ║ dep\n",
      "everybody  PRON  <══════╝                             ║             ║ appos\n",
      "say        VERB  ═══╗═╗═╗<════════════════════════════╝             ║ dep\n",
      "one        NUM   <╗ ║ ║ ║                                           ║ nummod\n",
      "thing      NOUN  ═╝<╝ ║ ║                                           ║ dobj\n",
      "\"          PUNCT <════╝ ║                                           ║ punct\n",
      "who        PRON  <════╗ ║                                           ║ nsubj\n",
      "be         VERB  ═══╗═╝<╝                                           ║ ccomp\n",
      "that       DET   <╗ ║                                               ║ det\n",
      "sing       VERB  ═╝<╝                                               ║ dep\n",
      "\"          PUNCT <══════════════════════════════════════════════════╝ punct\n"
     ]
    }
   ],
   "source": [
    "renderSyntacticTree(sentence4)"
   ]
  },
  {
   "cell_type": "code",
   "execution_count": 22,
   "metadata": {},
   "outputs": [
    {
     "name": "stdout",
     "output_type": "stream",
     "text": [
      "Challenges in natural language processing frequently involve speech recognition  natural language understanding  and natural language generation \\n\n"
     ]
    }
   ],
   "source": [
    "sentence5 = clean_reviews[7]\n",
    "print(sentence5)"
   ]
  },
  {
   "cell_type": "code",
   "execution_count": 23,
   "metadata": {},
   "outputs": [
    {
     "name": "stdout",
     "output_type": "stream",
     "text": [
      "Challenges    NOUN  ═══════╗<════╗   nsubj\n",
      "in            ADP   ═════╗<╝     ║   prep\n",
      "natural       ADJ   <╗   ║       ║   amod\n",
      "language      NOUN  ═╝<╗ ║       ║   compound\n",
      "processing    NOUN  ═══╝<╝       ║   pobj\n",
      "frequently    ADV   <══════════╗ ║   advmod\n",
      "involve       VERB  ═══╗═══╗═╗═╝═╝═╗ ROOT\n",
      "speech        NOUN  <╗ ║   ║ ║     ║ compound\n",
      "recognition   NOUN  ═╝<╝   ║ ║     ║ dobj\n",
      "              SPACE ═════╗<╝ ║     ║ dep\n",
      "natural       ADJ   <╗   ║   ║     ║ amod\n",
      "language      NOUN  ═╝<╗ ║   ║     ║ compound\n",
      "understanding NOUN  ═══╝<╝   ║     ║ dobj\n",
      "              SPACE ═╗═══╗<══╝     ║ dep\n",
      "and           CCONJ <╝   ║         ║ cc\n",
      "natural       ADJ   <╗   ║         ║ amod\n",
      "language      NOUN  ═╝<╗ ║         ║ compound\n",
      "generation    NOUN  ═══╝<╝         ║ conj\n",
      "\\n            PUNCT <══════════════╝ punct\n"
     ]
    }
   ],
   "source": [
    "renderSyntacticTree(sentence5)"
   ]
  }
 ],
 "metadata": {
  "kernelspec": {
   "display_name": "cic_nlp",
   "language": "python",
   "name": "python3"
  },
  "language_info": {
   "codemirror_mode": {
    "name": "ipython",
    "version": 3
   },
   "file_extension": ".py",
   "mimetype": "text/x-python",
   "name": "python",
   "nbconvert_exporter": "python",
   "pygments_lexer": "ipython3",
   "version": "3.10.8"
  }
 },
 "nbformat": 4,
 "nbformat_minor": 2
}
